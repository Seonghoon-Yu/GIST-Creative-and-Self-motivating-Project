{
  "nbformat": 4,
  "nbformat_minor": 0,
  "metadata": {
    "colab": {
      "name": "Colab_demo.ipynb",
      "provenance": [],
      "authorship_tag": "ABX9TyOUGENc0GV9SjCFMHn5MAX7",
      "include_colab_link": true
    },
    "kernelspec": {
      "name": "python3",
      "display_name": "Python 3"
    },
    "language_info": {
      "name": "python"
    },
    "gpuClass": "standard"
  },
  "cells": [
    {
      "cell_type": "markdown",
      "metadata": {
        "id": "view-in-github",
        "colab_type": "text"
      },
      "source": [
        "<a href=\"https://colab.research.google.com/github/Seonghoon-Yu/GIST-Creative-and-Self-motivating-Project/blob/main/Colab_demo.ipynb\" target=\"_parent\"><img src=\"https://colab.research.google.com/assets/colab-badge.svg\" alt=\"Open In Colab\"/></a>"
      ]
    },
    {
      "cell_type": "markdown",
      "source": [
        "## 1. git repository를 clone하여 demo code를 받아옵니다."
      ],
      "metadata": {
        "id": "Wgo7yoKP-BdB"
      }
    },
    {
      "cell_type": "code",
      "source": [
        "!git clone https://github.com/Seonghoon-Yu/GIST-Creative-and-Self-motivating-Project"
      ],
      "metadata": {
        "colab": {
          "base_uri": "https://localhost:8080/"
        },
        "id": "tA0XYKP57v2s",
        "outputId": "45ad8032-d3e3-441e-e767-c8f0468a323f"
      },
      "execution_count": 1,
      "outputs": [
        {
          "output_type": "stream",
          "name": "stdout",
          "text": [
            "Cloning into 'GIST-Creative-and-Self-motivating-Project'...\n",
            "remote: Enumerating objects: 64, done.\u001b[K\n",
            "remote: Counting objects: 100% (64/64), done.\u001b[K\n",
            "remote: Compressing objects: 100% (62/62), done.\u001b[K\n",
            "remote: Total 64 (delta 20), reused 0 (delta 0), pack-reused 0\u001b[K\n",
            "Unpacking objects: 100% (64/64), done.\n"
          ]
        }
      ]
    },
    {
      "cell_type": "markdown",
      "source": [
        "## 2. 파일 실행에 필요한 라이브러리를 설치합니다."
      ],
      "metadata": {
        "id": "dz1f20F2ER9Z"
      }
    },
    {
      "cell_type": "code",
      "source": [
        "!pip install selenium\n",
        "!apt install chromium-chromedriver"
      ],
      "metadata": {
        "id": "6Mds6dap-mFD"
      },
      "execution_count": null,
      "outputs": []
    },
    {
      "cell_type": "markdown",
      "source": [
        "## 3. Demo 코드가 있는 폴더로 이동합니다."
      ],
      "metadata": {
        "id": "QHHOv1aC-RyK"
      }
    },
    {
      "cell_type": "code",
      "source": [
        "cd GIST-Creative-and-Self-motivating-Project/"
      ],
      "metadata": {
        "colab": {
          "base_uri": "https://localhost:8080/"
        },
        "id": "MjHKt8an93Rj",
        "outputId": "b2e0c2c7-2386-4c74-b9ce-114c710c6633"
      },
      "execution_count": 3,
      "outputs": [
        {
          "output_type": "stream",
          "name": "stdout",
          "text": [
            "/content/GIST-Creative-and-Self-motivating-Project\n"
          ]
        }
      ]
    },
    {
      "cell_type": "markdown",
      "source": [
        "## 4. Demo 파일을 실행합니다.\n",
        "- Demo 파일 실행 후 user name을 입력해야 합니다.\n",
        "- 예시에서는 pseudope 를 입력했습니다."
      ],
      "metadata": {
        "id": "Jw16_RoaEXIZ"
      }
    },
    {
      "cell_type": "code",
      "source": [
        "!python demo.py"
      ],
      "metadata": {
        "colab": {
          "base_uri": "https://localhost:8080/"
        },
        "id": "MKkQnybJ-Qd1",
        "outputId": "b38b6472-a234-4e19-ced7-317486508bb1"
      },
      "execution_count": 4,
      "outputs": [
        {
          "output_type": "stream",
          "name": "stdout",
          "text": [
            "유저 닉네임을 입력하세요: pseudope\n",
            "Get user name: pseudope\n",
            "Searching solved problems by user: pseudope\n",
            "Load pre-trained model\n",
            "Forward user data into AI model\n",
            "Get recommends\n",
            "Recommend List\n",
            "https://www.acmicpc.net/problem/1007\n",
            "https://www.acmicpc.net/problem/1013\n",
            "https://www.acmicpc.net/problem/1016\n",
            "https://www.acmicpc.net/problem/1017\n",
            "https://www.acmicpc.net/problem/1019\n"
          ]
        }
      ]
    }
  ]
}